{
  "nbformat": 4,
  "nbformat_minor": 0,
  "metadata": {
    "colab": {
      "provenance": [],
      "authorship_tag": "ABX9TyOUtMUcOHRVsulXbR14tDXP",
      "include_colab_link": true
    },
    "kernelspec": {
      "name": "python3",
      "display_name": "Python 3"
    },
    "language_info": {
      "name": "python"
    }
  },
  "cells": [
    {
      "cell_type": "markdown",
      "metadata": {
        "id": "view-in-github",
        "colab_type": "text"
      },
      "source": [
        "<a href=\"https://colab.research.google.com/github/vaibhav0726/Ml-learning/blob/main/Vaibhav_Lab5Matplotlib.ipynb\" target=\"_parent\"><img src=\"https://colab.research.google.com/assets/colab-badge.svg\" alt=\"Open In Colab\"/></a>"
      ]
    },
    {
      "cell_type": "code",
      "execution_count": null,
      "metadata": {
        "colab": {
          "base_uri": "https://localhost:8080/"
        },
        "id": "Nf69QYbqI8J9",
        "outputId": "52421352-41ad-4021-c7c0-df39d401461c"
      },
      "outputs": [
        {
          "output_type": "stream",
          "name": "stdout",
          "text": [
            "    YearsExperience  Salary\n",
            "0               1.1   39343\n",
            "1               1.3   46205\n",
            "2               1.5   37731\n",
            "3               2.0   43525\n",
            "4               2.2   39891\n",
            "5               2.9   56642\n",
            "6               3.0   60150\n",
            "7               3.2   54445\n",
            "8               3.2   64445\n",
            "9               3.7   57189\n",
            "10              3.9   63218\n",
            "11              4.0   55794\n",
            "12              4.0   56957\n",
            "13              4.1   57081\n",
            "14              4.5   61111\n",
            "15              4.9   67938\n",
            "16              5.1   66029\n",
            "17              5.3   83088\n",
            "18              5.9   81363\n",
            "19              6.0   93940\n",
            "20              6.8   91738\n",
            "21              7.1   98273\n",
            "22              7.9  101302\n",
            "23              8.2  113812\n",
            "24              8.7  109431\n",
            "25              9.0  105582\n",
            "26              9.5  116969\n",
            "27              9.6  112635\n",
            "28             10.3  122391\n",
            "29             10.5  121872\n",
            "0      1.1\n",
            "1      1.3\n",
            "2      1.5\n",
            "3      2.0\n",
            "4      2.2\n",
            "5      2.9\n",
            "6      3.0\n",
            "7      3.2\n",
            "8      3.2\n",
            "9      3.7\n",
            "10     3.9\n",
            "11     4.0\n",
            "12     4.0\n",
            "13     4.1\n",
            "14     4.5\n",
            "15     4.9\n",
            "16     5.1\n",
            "17     5.3\n",
            "18     5.9\n",
            "19     6.0\n",
            "20     6.8\n",
            "21     7.1\n",
            "22     7.9\n",
            "23     8.2\n",
            "24     8.7\n",
            "25     9.0\n",
            "26     9.5\n",
            "27     9.6\n",
            "28    10.3\n",
            "29    10.5\n",
            "Name: YearsExperience, dtype: float64 0      39343\n",
            "1      46205\n",
            "2      37731\n",
            "3      43525\n",
            "4      39891\n",
            "5      56642\n",
            "6      60150\n",
            "7      54445\n",
            "8      64445\n",
            "9      57189\n",
            "10     63218\n",
            "11     55794\n",
            "12     56957\n",
            "13     57081\n",
            "14     61111\n",
            "15     67938\n",
            "16     66029\n",
            "17     83088\n",
            "18     81363\n",
            "19     93940\n",
            "20     91738\n",
            "21     98273\n",
            "22    101302\n",
            "23    113812\n",
            "24    109431\n",
            "25    105582\n",
            "26    116969\n",
            "27    112635\n",
            "28    122391\n",
            "29    121872\n",
            "Name: Salary, dtype: int64\n"
          ]
        }
      ],
      "source": [
        "dimport pandas as pd\n",
        "dataset = pd.read_csv('Salary_Data.csv')\n",
        "print(dataset)\n",
        "print(dataset['YearsExperience'], dataset['Salary'])"
      ]
    }
  ]
}