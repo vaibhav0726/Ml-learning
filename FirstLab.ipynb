{
  "nbformat": 4,
  "nbformat_minor": 0,
  "metadata": {
    "colab": {
      "name": "FirstLab.ipynb",
      "provenance": [],
      "authorship_tag": "ABX9TyOR+SIGERM2jeNR2uaLPE/u",
      "include_colab_link": true
    },
    "kernelspec": {
      "name": "python3",
      "display_name": "Python 3"
    },
    "language_info": {
      "name": "python"
    }
  },
  "cells": [
    {
      "cell_type": "markdown",
      "metadata": {
        "id": "view-in-github",
        "colab_type": "text"
      },
      "source": [
        "<a href=\"https://colab.research.google.com/github/vaibhav0726/Ml-learning/blob/main/FirstLab.ipynb\" target=\"_parent\"><img src=\"https://colab.research.google.com/assets/colab-badge.svg\" alt=\"Open In Colab\"/></a>"
      ]
    },
    {
      "cell_type": "code",
      "execution_count": null,
      "metadata": {
        "id": "oPYmuyvC81v7"
      },
      "outputs": [],
      "source": [
        "import numpy as np"
      ]
    },
    {
      "cell_type": "code",
      "source": [
        "a = np.array([\"string\",\"ram\",\"mradul\",\"raghav\"])"
      ],
      "metadata": {
        "id": "OpzfD22Y9Cj_"
      },
      "execution_count": null,
      "outputs": []
    },
    {
      "cell_type": "code",
      "source": [
        "print(a)"
      ],
      "metadata": {
        "colab": {
          "base_uri": "https://localhost:8080/"
        },
        "id": "HHLfgrnF9GuO",
        "outputId": "314bd6be-b5f1-4992-f95c-80191448b296"
      },
      "execution_count": null,
      "outputs": [
        {
          "output_type": "stream",
          "name": "stdout",
          "text": [
            "['string' 'ram' 'mradul' 'raghav']\n"
          ]
        }
      ]
    },
    {
      "cell_type": "code",
      "source": [
        "my_list = [[10.30,20,30,40],[50,60,70,80]]"
      ],
      "metadata": {
        "id": "BXz_WsKT9I02"
      },
      "execution_count": null,
      "outputs": []
    },
    {
      "cell_type": "code",
      "source": [
        "# a = np.array(my_list)"
      ],
      "metadata": {
        "id": "kHzLAxYD9VxY"
      },
      "execution_count": null,
      "outputs": []
    },
    {
      "cell_type": "code",
      "source": [
        "print(a)  # printing a \n",
        "print(type(a))  # class name in numpy\n",
        "print(a.shape)  # shape of list(m*n)\n",
        "print(a.dtype)  # data type\n",
        "print(a.size) # total number of elements\n",
        "print(a.ndim) # number of dimensions"
      ],
      "metadata": {
        "colab": {
          "base_uri": "https://localhost:8080/"
        },
        "id": "f0Negh_p9jg9",
        "outputId": "9b907fe0-f9fb-4ef8-9627-801d72e28f3a"
      },
      "execution_count": null,
      "outputs": [
        {
          "output_type": "stream",
          "name": "stdout",
          "text": [
            "['string' 'ram' 'mradul' 'raghav']\n",
            "<class 'numpy.ndarray'>\n",
            "(4,)\n",
            "<U6\n",
            "4\n",
            "1\n"
          ]
        }
      ]
    },
    {
      "cell_type": "code",
      "source": [],
      "metadata": {
        "id": "bTvYCB5O9Y1p"
      },
      "execution_count": null,
      "outputs": []
    }
  ]
}