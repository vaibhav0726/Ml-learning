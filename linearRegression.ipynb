{
  "nbformat": 4,
  "nbformat_minor": 0,
  "metadata": {
    "colab": {
      "provenance": [],
      "authorship_tag": "ABX9TyO0ZSP7ehRL4UbzdGKLXlZP",
      "include_colab_link": true
    },
    "kernelspec": {
      "name": "python3",
      "display_name": "Python 3"
    },
    "language_info": {
      "name": "python"
    }
  },
  "cells": [
    {
      "cell_type": "markdown",
      "metadata": {
        "id": "view-in-github",
        "colab_type": "text"
      },
      "source": [
        "<a href=\"https://colab.research.google.com/github/vaibhav0726/Ml-learning/blob/main/linearRegression.ipynb\" target=\"_parent\"><img src=\"https://colab.research.google.com/assets/colab-badge.svg\" alt=\"Open In Colab\"/></a>"
      ]
    },
    {
      "cell_type": "code",
      "execution_count": null,
      "metadata": {
        "colab": {
          "base_uri": "https://localhost:8080/"
        },
        "id": "8L1Lja3pW_Yn",
        "outputId": "5d02a3db-245b-4911-d3cd-b84fd8abc184"
      },
      "outputs": [
        {
          "output_type": "stream",
          "name": "stdout",
          "text": [
            "    YearsExperience    Salary\n",
            "0               1.1   39343.0\n",
            "1               1.3   46205.0\n",
            "2               1.5   37731.0\n",
            "3               2.0   43525.0\n",
            "4               2.2   39891.0\n",
            "5               2.9   56642.0\n",
            "6               3.0   60150.0\n",
            "7               3.2   54445.0\n",
            "8               3.2   64445.0\n",
            "9               3.7   57189.0\n",
            "10              3.9   63218.0\n",
            "11              4.0   55794.0\n",
            "12              4.0   56957.0\n",
            "13              4.1   57081.0\n",
            "14              4.5   61111.0\n",
            "15              4.9   67938.0\n",
            "16              5.1   66029.0\n",
            "17              5.3   83088.0\n",
            "18              5.9   81363.0\n",
            "19              6.0   93940.0\n",
            "20              6.8   91738.0\n",
            "21              7.1   98273.0\n",
            "22              7.9  101302.0\n",
            "23              8.2  113812.0\n",
            "24              8.7  109431.0\n",
            "25              9.0  105582.0\n",
            "26              9.5  116969.0\n",
            "27              9.6  112635.0\n",
            "28             10.3  122391.0\n",
            "29             10.5  121872.0\n"
          ]
        }
      ],
      "source": [
        "import pandas as pd\n",
        "dataset = pd.read_csv('Salary_Data.csv')\n",
        "print(dataset)"
      ]
    },
    {
      "cell_type": "code",
      "source": [
        "import matplotlib.pyplot as plt\n",
        "plt.scatter(dataset['YearsExperience'],dataset['Salary'],color='red')\n",
        "plt.title(\"linear Regression Salary Vs Experience\")\n",
        "plt.xlabel(\"Years of Employee\")\n",
        "plt.ylabel(\"Salaries of Employee\")\n",
        "plt.show()"
      ],
      "metadata": {
        "colab": {
          "base_uri": "https://localhost:8080/",
          "height": 295
        },
        "id": "VJz73JelXx2A",
        "outputId": "96163120-8337-4297-a451-be57d3f4443c"
      },
      "execution_count": null,
      "outputs": [
        {
          "output_type": "display_data",
          "data": {
            "text/plain": [
              "<Figure size 432x288 with 1 Axes>"
            ],
            "image/png": "[encoded data removed]"
          },
          "metadata": {
            "needs_background": "light"
          }
        }
      ]
    },
    {
      "cell_type": "code",
      "source": [
        "x = dataset.iloc[:, :-1].values\n",
        "print(x)\n",
        "y = dataset.iloc[:,1].values\n",
        "print(y)"
      ],
      "metadata": {
        "colab": {
          "base_uri": "https://localhost:8080/"
        },
        "id": "ym7OU8h3YToh",
        "outputId": "252cc606-47d3-4542-b175-f25385eae333"
      },
      "execution_count": null,
      "outputs": [
        {
          "output_type": "stream",
          "name": "stdout",
          "text": [
            "[[ 1.1]\n",
            " [ 1.3]\n",
            " [ 1.5]\n",
            " [ 2. ]\n",
            " [ 2.2]\n",
            " [ 2.9]\n",
            " [ 3. ]\n",
            " [ 3.2]\n",
            " [ 3.2]\n",
            " [ 3.7]\n",
            " [ 3.9]\n",
            " [ 4. ]\n",
            " [ 4. ]\n",
            " [ 4.1]\n",
            " [ 4.5]\n",
            " [ 4.9]\n",
            " [ 5.1]\n",
            " [ 5.3]\n",
            " [ 5.9]\n",
            " [ 6. ]\n",
            " [ 6.8]\n",
            " [ 7.1]\n",
            " [ 7.9]\n",
            " [ 8.2]\n",
            " [ 8.7]\n",
            " [ 9. ]\n",
            " [ 9.5]\n",
            " [ 9.6]\n",
            " [10.3]\n",
            " [10.5]]\n",
            "[ 39343.  46205.  37731.  43525.  39891.  56642.  60150.  54445.  64445.\n",
            "  57189.  63218.  55794.  56957.  57081.  61111.  67938.  66029.  83088.\n",
            "  81363.  93940.  91738.  98273. 101302. 113812. 109431. 105582. 116969.\n",
            " 112635. 122391. 121872.]\n"
          ]
        }
      ]
    },
    {
      "cell_type": "code",
      "source": [
        "from sklearn.model_selection import train_test_split\n",
        "X_train, X_test, y_train, y_test = train_test_split(x,y, test_size=0.3, random_state=0)\n",
        "print(X_train)"
      ],
      "metadata": {
        "colab": {
          "base_uri": "https://localhost:8080/"
        },
        "id": "eOX7ojkJYhUg",
        "outputId": "7333b012-db83-40e8-be38-027765564964"
      },
      "execution_count": null,
      "outputs": [
        {
          "output_type": "stream",
          "name": "stdout",
          "text": [
            "[[ 7.9]\n",
            " [ 2.9]\n",
            " [ 5.1]\n",
            " [ 3.2]\n",
            " [ 4.5]\n",
            " [ 8.2]\n",
            " [ 6.8]\n",
            " [ 1.3]\n",
            " [10.5]\n",
            " [ 3. ]\n",
            " [ 2.2]\n",
            " [ 5.9]\n",
            " [ 6. ]\n",
            " [ 3.7]\n",
            " [ 3.2]\n",
            " [ 9. ]\n",
            " [ 2. ]\n",
            " [ 1.1]\n",
            " [ 7.1]\n",
            " [ 4.9]\n",
            " [ 4. ]]\n"
          ]
        }
      ]
    },
    {
      "cell_type": "code",
      "source": [
        "print(X_train.shape,\n",
        "X_test,\n",
        "X_test.shape,\n",
        "y_train,\n",
        "y_train.shape,\n",
        "y_test,\n",
        "y_test.shape)"
      ],
      "metadata": {
        "colab": {
          "base_uri": "https://localhost:8080/"
        },
        "id": "QeB2jVjBcq3o",
        "outputId": "cbd432ef-1dea-43a8-f552-3bd1eac0e0d8"
      },
      "execution_count": null,
      "outputs": [
        {
          "output_type": "stream",
          "name": "stdout",
          "text": [
            "(21, 1) [[ 1.5]\n",
            " [10.3]\n",
            " [ 4.1]\n",
            " [ 3.9]\n",
            " [ 9.5]\n",
            " [ 8.7]\n",
            " [ 9.6]\n",
            " [ 4. ]\n",
            " [ 5.3]] (9, 1) [101302.  56642.  66029.  64445.  61111. 113812.  91738.  46205. 121872.\n",
            "  60150.  39891.  81363.  93940.  57189.  54445. 105582.  43525.  39343.\n",
            "  98273.  67938.  56957.] (21,) [ 37731. 122391.  57081.  63218. 116969. 109431. 112635.  55794.  83088.] (9,)\n"
          ]
        }
      ]
    },
    {
      "cell_type": "code",
      "source": [
        "from sklearn.linear_model import LinearRegression\n",
        "reg = LinearRegression()\n",
        "reg.fit(X_train,y_train)\n",
        "y_prdict=reg.predict(X_test)\n",
        "print(y_prdict)"
      ],
      "metadata": {
        "colab": {
          "base_uri": "https://localhost:8080/"
        },
        "id": "8RGLn-nadEvw",
        "outputId": "befca0d7-b30c-4ce2-8e20-c781900a04b0"
      },
      "execution_count": null,
      "outputs": [
        {
          "output_type": "stream",
          "name": "stdout",
          "text": [
            "[ 40817.78327049 123188.08258899  65154.46261459  63282.41035735\n",
            " 115699.87356004 108211.66453108 116635.89968866  64218.43648597\n",
            "  76386.77615802]\n"
          ]
        }
      ]
    },
    {
      "cell_type": "code",
      "source": [
        "print(X_test,\n",
        "y_test,\n",
        "y_prdict)"
      ],
      "metadata": {
        "colab": {
          "base_uri": "https://localhost:8080/"
        },
        "id": "vkVq6_kGdL4v",
        "outputId": "8f51ee55-02ce-4d6d-8ed9-88d0f7e9289a"
      },
      "execution_count": null,
      "outputs": [
        {
          "output_type": "stream",
          "name": "stdout",
          "text": [
            "[[ 1.5]\n",
            " [10.3]\n",
            " [ 4.1]\n",
            " [ 3.9]\n",
            " [ 9.5]\n",
            " [ 8.7]\n",
            " [ 9.6]\n",
            " [ 4. ]\n",
            " [ 5.3]] [ 37731. 122391.  57081.  63218. 116969. 109431. 112635.  55794.  83088.] [ 40817.78327049 123188.08258899  65154.46261459  63282.41035735\n",
            " 115699.87356004 108211.66453108 116635.89968866  64218.43648597\n",
            "  76386.77615802]\n"
          ]
        }
      ]
    },
    {
      "cell_type": "code",
      "source": [
        "diff_pred = y_test - y_prdict\n",
        "print(diff_pred)"
      ],
      "metadata": {
        "colab": {
          "base_uri": "https://localhost:8080/"
        },
        "id": "ThdVlXFddWWA",
        "outputId": "b6f07388-0247-4766-e2c0-7fedddafe6e8"
      },
      "execution_count": null,
      "outputs": [
        {
          "output_type": "stream",
          "name": "stdout",
          "text": [
            "[-3086.78327049  -797.08258899 -8073.46261459   -64.41035735\n",
            "  1269.12643996  1219.33546892 -4000.89968866 -8424.43648597\n",
            "  6701.22384198]\n"
          ]
        }
      ]
    },
    {
      "cell_type": "code",
      "source": [
        "res_df = pd.concat([pd.Series(y_prdict),pd.Series(y_test), pd.Series(diff_pred)], axis=1)\n",
        "res_df.columns=['Prediction','Original Data','Diff']\n",
        "print(res_df)"
      ],
      "metadata": {
        "colab": {
          "base_uri": "https://localhost:8080/"
        },
        "id": "_J4YU1rvg3pA",
        "outputId": "98b69831-9d8c-4435-cd71-2923cea45e9b"
      },
      "execution_count": null,
      "outputs": [
        {
          "output_type": "stream",
          "name": "stdout",
          "text": [
            "      Prediction  Original Data         Diff\n",
            "0   40817.783270        37731.0 -3086.783270\n",
            "1  123188.082589       122391.0  -797.082589\n",
            "2   65154.462615        57081.0 -8073.462615\n",
            "3   63282.410357        63218.0   -64.410357\n",
            "4  115699.873560       116969.0  1269.126440\n",
            "5  108211.664531       109431.0  1219.335469\n",
            "6  116635.899689       112635.0 -4000.899689\n",
            "7   64218.436486        55794.0 -8424.436486\n",
            "8   76386.776158        83088.0  6701.223842\n"
          ]
        }
      ]
    },
    {
      "cell_type": "code",
      "source": [
        "plt.scatter(X_train, y_train,color='red')\n",
        "plt.plot(X_train, reg.predict(X_train), color='blue')\n",
        "plt.title(\"Training of linear Regression Salary Vs Experience\")\n",
        "plt.xlabel(\"Years of Employee\")\n",
        "plt.ylabel(\"Salaries of Employee\")\n",
        "plt.show()"
      ],
      "metadata": {
        "colab": {
          "base_uri": "https://localhost:8080/",
          "height": 295
        },
        "id": "bASnI7C6hNSX",
        "outputId": "145a4d46-d4cb-4a24-d961-52cc7c1f766a"
      },
      "execution_count": null,
      "outputs": [
        {
          "output_type": "display_data",
          "data": {
            "text/plain": [
              "<Figure size 432x288 with 1 Axes>"
            ],
            "image/png": "[encoded data removed]"
          },
          "metadata": {
            "needs_background": "light"
          }
        }
      ]
    },
    {
      "cell_type": "code",
      "source": [
        "plt.scatter(X_test, y_test, color='red')\n",
        "plt.plot(X_train, reg.predict(X_train), color='blue')\n",
        "plt.title(\"Linear Regression Salary Vs Experience\")\n",
        "plt.xlabel(\"Years of Employee\")\n",
        "plt.ylabel(\"Salaries of Employee\")\n",
        "plt.show()"
      ],
      "metadata": {
        "colab": {
          "base_uri": "https://localhost:8080/",
          "height": 295
        },
        "id": "KFHllgkThSc_",
        "outputId": "939787b3-0ab3-4967-fec7-a32be6e7c0c8"
      },
      "execution_count": null,
      "outputs": [
        {
          "output_type": "display_data",
          "data": {
            "text/plain": [
              "<Figure size 432x288 with 1 Axes>"
            ],
            "image/png": "[encoded data removed]"
          },
          "metadata": {
            "needs_background": "light"
          }
        }
      ]
    },
    {
      "cell_type": "code",
      "source": [
        "import sklearn.metrics as sm\n",
        "import numpy as np\n",
        "print(\"Root Mean Squared Error =\", round(np.sqrt(sm.mean_squared_error(y_test,y_prdict)),2))\n",
        "print('Explain Variance Score =',round(sm.explained_variance_score(y_test,y_prdict),2))\n",
        "print('R2 score =', round(sm.r2_score(y_test,y_prdict),2))"
      ],
      "metadata": {
        "colab": {
          "base_uri": "https://localhost:8080/"
        },
        "id": "CzwqjcPBhfJQ",
        "outputId": "a847aa42-7c77-4a52-8933-0e886a6599cc"
      },
      "execution_count": null,
      "outputs": [
        {
          "output_type": "stream",
          "name": "stdout",
          "text": [
            "Root Mean Squared Error = 4834.26\n",
            "Explain Variance Score = 0.98\n",
            "R2 score = 0.97\n"
          ]
        }
      ]
    },
    {
      "cell_type": "code",
      "source": [
        "new_salary_pred = reg.predict([[15]])\n",
        "print (new_salary_pred)"
      ],
      "metadata": {
        "colab": {
          "base_uri": "https://localhost:8080/"
        },
        "id": "UHEwQ1nzhXPX",
        "outputId": "a3a62516-b837-432c-ac8e-4437f91e2b80"
      },
      "execution_count": null,
      "outputs": [
        {
          "output_type": "stream",
          "name": "stdout",
          "text": [
            "[167181.3106341]\n"
          ]
        }
      ]
    }
  ]
}