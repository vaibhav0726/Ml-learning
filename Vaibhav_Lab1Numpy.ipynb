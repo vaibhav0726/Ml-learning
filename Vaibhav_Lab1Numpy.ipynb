{
  "nbformat": 4,
  "nbformat_minor": 0,
  "metadata": {
    "colab": {
      "provenance": [],
      "authorship_tag": "ABX9TyOo0clejgQKOHb9Rv5roygZ",
      "include_colab_link": true
    },
    "kernelspec": {
      "name": "python3",
      "display_name": "Python 3"
    },
    "language_info": {
      "name": "python"
    }
  },
  "cells": [
    {
      "cell_type": "markdown",
      "metadata": {
        "id": "view-in-github",
        "colab_type": "text"
      },
      "source": [
        "<a href=\"https://colab.research.google.com/github/vaibhav0726/Ml-learning/blob/main/Vaibhav_Lab1Numpy.ipynb\" target=\"_parent\"><img src=\"https://colab.research.google.com/assets/colab-badge.svg\" alt=\"Open In Colab\"/></a>"
      ]
    },
    {
      "cell_type": "code",
      "execution_count": null,
      "metadata": {
        "id": "oPYmuyvC81v7"
      },
      "outputs": [],
      "source": [
        "import numpy as np"
      ]
    },
    {
      "cell_type": "markdown",
      "source": [
        "**Class Work**"
      ],
      "metadata": {
        "id": "nNF6uzTRlNjA"
      }
    },
    {
      "cell_type": "code",
      "source": [
        "a = np.array([\"string\",\"integer\",\"mradul\",\"raghav\"])"
      ],
      "metadata": {
        "id": "OpzfD22Y9Cj_"
      },
      "execution_count": null,
      "outputs": []
    },
    {
      "cell_type": "code",
      "source": [
        "print(a)"
      ],
      "metadata": {
        "colab": {
          "base_uri": "https://localhost:8080/"
        },
        "id": "HHLfgrnF9GuO",
        "outputId": "314bd6be-b5f1-4992-f95c-80191448b296"
      },
      "execution_count": null,
      "outputs": [
        {
          "output_type": "stream",
          "name": "stdout",
          "text": [
            "['string' 'ram' 'mradul' 'raghav']\n"
          ]
        }
      ]
    },
    {
      "cell_type": "code",
      "source": [
        "my_list = [[10.30,20,30,40],[50,60,70,80]]"
      ],
      "metadata": {
        "id": "BXz_WsKT9I02"
      },
      "execution_count": null,
      "outputs": []
    },
    {
      "cell_type": "code",
      "source": [
        "# a = np.array(my_list)"
      ],
      "metadata": {
        "id": "kHzLAxYD9VxY"
      },
      "execution_count": null,
      "outputs": []
    },
    {
      "cell_type": "code",
      "source": [
        "print(a)  # printing a \n",
        "print(type(a))  # class name in numpy\n",
        "print(a.shape)  # shape of list(m*n)\n",
        "print(a.dtype)  # data type\n",
        "print(a.size) # total number of elements\n",
        "print(a.ndim) # number of dimensions"
      ],
      "metadata": {
        "colab": {
          "base_uri": "https://localhost:8080/"
        },
        "id": "f0Negh_p9jg9",
        "outputId": "9b907fe0-f9fb-4ef8-9627-801d72e28f3a"
      },
      "execution_count": null,
      "outputs": [
        {
          "output_type": "stream",
          "name": "stdout",
          "text": [
            "['string' 'ram' 'mradul' 'raghav']\n",
            "<class 'numpy.ndarray'>\n",
            "(4,)\n",
            "<U6\n",
            "4\n",
            "1\n"
          ]
        }
      ]
    },
    {
      "cell_type": "markdown",
      "source": [
        "**Assignment-1**"
      ],
      "metadata": {
        "id": "0fCv8JTqlTje"
      }
    },
    {
      "cell_type": "markdown",
      "source": [
        "1. Numpy Creating Arrays"
      ],
      "metadata": {
        "id": "c4phg8jTleZu"
      }
    },
    {
      "cell_type": "code",
      "source": [
        "import numpy as np\n",
        "arr = np.array([10,20,30,40])\n",
        "print(type(arr))"
      ],
      "metadata": {
        "colab": {
          "base_uri": "https://localhost:8080/"
        },
        "id": "Ad5-3EJ5lb42",
        "outputId": "0c4d6b6f-33af-475c-c8f4-498f94d89881"
      },
      "execution_count": null,
      "outputs": [
        {
          "output_type": "stream",
          "name": "stdout",
          "text": [
            "<class 'numpy.ndarray'>\n"
          ]
        }
      ]
    },
    {
      "cell_type": "markdown",
      "source": [
        "2. Numpy Array Indexing"
      ],
      "metadata": {
        "id": "PNGsMwPol033"
      }
    },
    {
      "cell_type": "code",
      "source": [
        "print(arr[3])\n",
        "print(arr[4])\n",
        "print(arr[-1])"
      ],
      "metadata": {
        "colab": {
          "base_uri": "https://localhost:8080/",
          "height": 252
        },
        "id": "CBe_4TWol3NO",
        "outputId": "ef808dac-8a61-4287-92a5-ac36bc46044f"
      },
      "execution_count": null,
      "outputs": [
        {
          "output_type": "stream",
          "name": "stdout",
          "text": [
            "40\n",
            "[20 30]\n"
          ]
        },
        {
          "output_type": "error",
          "ename": "IndexError",
          "evalue": "ignored",
          "traceback": [
            "\u001b[0;31m---------------------------------------------------------------------------\u001b[0m",
            "\u001b[0;31mIndexError\u001b[0m                                Traceback (most recent call last)",
            "\u001b[0;32m<ipython-input-5-c4f07cab9953>\u001b[0m in \u001b[0;36m<module>\u001b[0;34m\u001b[0m\n\u001b[1;32m      1\u001b[0m \u001b[0mprint\u001b[0m\u001b[0;34m(\u001b[0m\u001b[0marr\u001b[0m\u001b[0;34m[\u001b[0m\u001b[0;36m3\u001b[0m\u001b[0;34m]\u001b[0m\u001b[0;34m)\u001b[0m\u001b[0;34m\u001b[0m\u001b[0;34m\u001b[0m\u001b[0m\n\u001b[1;32m      2\u001b[0m \u001b[0mprint\u001b[0m\u001b[0;34m(\u001b[0m\u001b[0marr\u001b[0m\u001b[0;34m[\u001b[0m\u001b[0;36m1\u001b[0m\u001b[0;34m:\u001b[0m\u001b[0;36m3\u001b[0m\u001b[0;34m]\u001b[0m\u001b[0;34m)\u001b[0m\u001b[0;34m\u001b[0m\u001b[0;34m\u001b[0m\u001b[0m\n\u001b[0;32m----> 3\u001b[0;31m \u001b[0mprint\u001b[0m\u001b[0;34m(\u001b[0m\u001b[0marr\u001b[0m\u001b[0;34m[\u001b[0m\u001b[0;36m4\u001b[0m\u001b[0;34m]\u001b[0m\u001b[0;34m)\u001b[0m\u001b[0;34m\u001b[0m\u001b[0;34m\u001b[0m\u001b[0m\n\u001b[0m\u001b[1;32m      4\u001b[0m \u001b[0mprint\u001b[0m\u001b[0;34m(\u001b[0m\u001b[0marr\u001b[0m\u001b[0;34m[\u001b[0m\u001b[0;34m-\u001b[0m\u001b[0;36m1\u001b[0m\u001b[0;34m]\u001b[0m\u001b[0;34m)\u001b[0m\u001b[0;34m\u001b[0m\u001b[0;34m\u001b[0m\u001b[0m\n",
            "\u001b[0;31mIndexError\u001b[0m: index 4 is out of bounds for axis 0 with size 4"
          ]
        }
      ]
    },
    {
      "cell_type": "markdown",
      "source": [
        "3. Numpy Array Slicing"
      ],
      "metadata": {
        "id": "NsAnodgfmUxD"
      }
    },
    {
      "cell_type": "code",
      "source": [
        "arr = np.array([10,20,30,40,50,60,70,80,90,100])\n",
        "print(arr[1:5:2]) # not including 5\n",
        "print(arr[-4:-1])\n",
        "print(arr[::-2]) # starting to end with reverse"
      ],
      "metadata": {
        "colab": {
          "base_uri": "https://localhost:8080/"
        },
        "id": "hE-voqTamXZN",
        "outputId": "e8aaee80-b600-4fe0-a4fd-5084987bcb2b"
      },
      "execution_count": null,
      "outputs": [
        {
          "output_type": "stream",
          "name": "stdout",
          "text": [
            "[20 40]\n",
            "[70 80 90]\n",
            "[100  80  60  40  20]\n"
          ]
        }
      ]
    },
    {
      "cell_type": "markdown",
      "source": [
        "4. Numpy DataTypes"
      ],
      "metadata": {
        "id": "AK2UbQ3LnExw"
      }
    },
    {
      "cell_type": "code",
      "source": [
        "arr = np.array([10,20,30,40,50])\n",
        "print(arr.dtype)\n",
        "arr = np.array([1.2,2.3,3.4])\n",
        "print(arr.dtype)\n",
        "arr = np.array([\"naman\", \"mradul\", \"vaibhav\"])\n",
        "print(arr.dtype)"
      ],
      "metadata": {
        "colab": {
          "base_uri": "https://localhost:8080/"
        },
        "id": "MLtT5bjLnHL5",
        "outputId": "23df5ede-5d23-4092-9d6c-feaaa29c38fd"
      },
      "execution_count": null,
      "outputs": [
        {
          "output_type": "stream",
          "name": "stdout",
          "text": [
            "int64\n",
            "float64\n",
            "<U7\n"
          ]
        }
      ]
    },
    {
      "cell_type": "markdown",
      "source": [
        "5. Numpy copy"
      ],
      "metadata": {
        "id": "yC5UsKmtnqjG"
      }
    },
    {
      "cell_type": "code",
      "source": [
        "arr = np.array([10,20,30,40,50])\n",
        "temp = arr.copy()\n",
        "arr[0] = 10\n",
        "print(arr)\n",
        "print(temp)"
      ],
      "metadata": {
        "colab": {
          "base_uri": "https://localhost:8080/"
        },
        "id": "Ukkf8J1fnsKr",
        "outputId": "47b9ead4-d21d-4223-89b1-7ffab48344db"
      },
      "execution_count": null,
      "outputs": [
        {
          "output_type": "stream",
          "name": "stdout",
          "text": [
            "[42 20 30 40 50]\n",
            "[10 20 30 40 50]\n"
          ]
        }
      ]
    },
    {
      "cell_type": "markdown",
      "source": [
        "6. Numpy View"
      ],
      "metadata": {
        "id": "XVkP0yJQn9-j"
      }
    },
    {
      "cell_type": "code",
      "source": [
        "arr = np.array([10,20,30,40,50])\n",
        "temp = arr.view()\n",
        "arr[0] = 90\n",
        "print(arr)\n",
        "print(temp)"
      ],
      "metadata": {
        "colab": {
          "base_uri": "https://localhost:8080/"
        },
        "id": "bfqLdCJUoAb5",
        "outputId": "6b63433d-8418-4a8b-fc8c-05ffe8194400"
      },
      "execution_count": null,
      "outputs": [
        {
          "output_type": "stream",
          "name": "stdout",
          "text": [
            "[90 20 30 40 50]\n",
            "[90 20 30 40 50]\n"
          ]
        }
      ]
    },
    {
      "cell_type": "markdown",
      "source": [
        "7.  Numpy Array Shape"
      ],
      "metadata": {
        "id": "O91Yz5rMt7gf"
      }
    },
    {
      "cell_type": "code",
      "source": [
        "newArr = [[10,20,30], [40,50,60], [70,80,90]]\n",
        "arr = np.array(newArr)\n",
        "print(arr)\n",
        "print(arr.shape)"
      ],
      "metadata": {
        "colab": {
          "base_uri": "https://localhost:8080/"
        },
        "id": "BkWSwaaBucFG",
        "outputId": "7eec1ed0-9b80-4069-afc7-82d26f102955"
      },
      "execution_count": null,
      "outputs": [
        {
          "output_type": "stream",
          "name": "stdout",
          "text": [
            "[[10 20 30]\n",
            " [40 50 60]\n",
            " [70 80 90]]\n",
            "(3, 3)\n"
          ]
        }
      ]
    },
    {
      "cell_type": "markdown",
      "source": [
        "8. Numpy Array Reshape"
      ],
      "metadata": {
        "id": "CEt_69W3uusB"
      }
    },
    {
      "cell_type": "code",
      "source": [
        "arr = np.array([10,20,30,40,50,60,70,80,90,100,110,120])\n",
        "newArr = arr.reshape(3,4)\n",
        "print(newArr)"
      ],
      "metadata": {
        "colab": {
          "base_uri": "https://localhost:8080/"
        },
        "id": "btO-MxgfuqA-",
        "outputId": "d72055b1-1de1-4a17-e1b1-ffe8f05c91ff"
      },
      "execution_count": null,
      "outputs": [
        {
          "output_type": "stream",
          "name": "stdout",
          "text": [
            "[[ 10  20  30  40]\n",
            " [ 50  60  70  80]\n",
            " [ 90 100 110 120]]\n"
          ]
        }
      ]
    },
    {
      "cell_type": "markdown",
      "source": [
        "9. Numpy Array Iterating"
      ],
      "metadata": {
        "id": "fW1sBoGkv3Di"
      }
    },
    {
      "cell_type": "code",
      "source": [
        "arr = np.array([10,20,30])\n",
        "for i in arr:\n",
        "  print(i)\n"
      ],
      "metadata": {
        "colab": {
          "base_uri": "https://localhost:8080/"
        },
        "id": "ZCJI-Uuvv6mj",
        "outputId": "b36fdc0c-81c1-4563-97a9-81c606d64f3d"
      },
      "execution_count": null,
      "outputs": [
        {
          "output_type": "stream",
          "name": "stdout",
          "text": [
            "10\n",
            "20\n",
            "30\n"
          ]
        }
      ]
    },
    {
      "cell_type": "markdown",
      "source": [
        "10. Numpy Array Join "
      ],
      "metadata": {
        "id": "qp8LAsz7wD-Y"
      }
    },
    {
      "cell_type": "code",
      "source": [
        "arr1 = np.array([10,20,30])\n",
        "arr2 = np.array([40,50,60])\n",
        "arr3 = np.concatenate( ( arr1, arr2 ) )\n",
        "print( arr3 )"
      ],
      "metadata": {
        "colab": {
          "base_uri": "https://localhost:8080/"
        },
        "id": "9GFwUD_1wGVF",
        "outputId": "0c9ebd8e-a83f-43fc-d6dd-78cf8c1995a0"
      },
      "execution_count": null,
      "outputs": [
        {
          "output_type": "stream",
          "name": "stdout",
          "text": [
            "[10 20 30 40 50 60]\n"
          ]
        }
      ]
    },
    {
      "cell_type": "markdown",
      "source": [
        "11. Numpy Array Split "
      ],
      "metadata": {
        "id": "gdAF-tZ2wYlm"
      }
    },
    {
      "cell_type": "code",
      "source": [
        "arr = np.array([10,20,30,40,50,60,70,80,90,100])\n",
        "arr2 = np.array_split(arr,3)\n",
        "print(arr2)"
      ],
      "metadata": {
        "colab": {
          "base_uri": "https://localhost:8080/"
        },
        "id": "JxLmMWp-wbdC",
        "outputId": "f86e2e40-879d-4b43-8cf2-9d82307c15ec"
      },
      "execution_count": null,
      "outputs": [
        {
          "output_type": "stream",
          "name": "stdout",
          "text": [
            "[array([10, 20, 30, 40]), array([50, 60, 70]), array([ 80,  90, 100])]\n"
          ]
        }
      ]
    },
    {
      "cell_type": "markdown",
      "source": [
        "12. Numpy Array Search"
      ],
      "metadata": {
        "id": "BJCyTL6Xwnh2"
      }
    },
    {
      "cell_type": "code",
      "source": [
        "arr = np.array([10,20,30,40,50])\n",
        "temp = np.where(arr == 40)\n",
        "print(temp) # prints index"
      ],
      "metadata": {
        "colab": {
          "base_uri": "https://localhost:8080/"
        },
        "id": "rFjq8ra2wpl7",
        "outputId": "e045cfc7-47b0-4c29-ac4c-bf966f2c1a40"
      },
      "execution_count": null,
      "outputs": [
        {
          "output_type": "stream",
          "name": "stdout",
          "text": [
            "(array([3]),)\n"
          ]
        }
      ]
    },
    {
      "cell_type": "markdown",
      "source": [
        "13. Numpy Array Sort "
      ],
      "metadata": {
        "id": "B-cbAoXYw5XD"
      }
    },
    {
      "cell_type": "code",
      "source": [
        "arr = np.array([10,30,50,20,15])\n",
        "print(np.sort(arr))\n"
      ],
      "metadata": {
        "colab": {
          "base_uri": "https://localhost:8080/"
        },
        "id": "E9CWE1Law7pr",
        "outputId": "623273a7-15cb-4f15-f347-0937c4e25901"
      },
      "execution_count": null,
      "outputs": [
        {
          "output_type": "stream",
          "name": "stdout",
          "text": [
            "[10 15 20 30 50]\n"
          ]
        }
      ]
    },
    {
      "cell_type": "markdown",
      "source": [
        "14. Numpy Array Filter "
      ],
      "metadata": {
        "id": "gnOBwtntxGDS"
      }
    },
    {
      "cell_type": "code",
      "source": [
        "arr = np.array([10,20,30,40,50])\n",
        "arr2 = [True, False, False, True, True]\n",
        "arr3 = arr[temp]\n",
        "print(arr3)"
      ],
      "metadata": {
        "colab": {
          "base_uri": "https://localhost:8080/"
        },
        "id": "6EQPjx40xzS3",
        "outputId": "740f32dd-76e7-4257-e45d-58654eeffe8d"
      },
      "execution_count": null,
      "outputs": [
        {
          "output_type": "stream",
          "name": "stdout",
          "text": [
            "[40]\n"
          ]
        }
      ]
    }
  ]
}